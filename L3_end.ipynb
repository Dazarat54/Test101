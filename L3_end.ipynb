{
 "cells": [
  {
   "cell_type": "markdown",
   "metadata": {},
   "source": [
    "## Моделирование работы простейшего акселерометра \n",
    "группа 203с-19\n",
    "\n",
    "**Москвитин Александр**  \n",
    "**Карабанов Михаил**\n"
   ]
  },
  {
   "cell_type": "markdown",
   "metadata": {},
   "source": [
    "Каким образом можно преобразовать гальванометр что бы он измерял ускорение?"
   ]
  },
  {
   "cell_type": "markdown",
   "metadata": {},
   "source": [
    "$M_{Амп}$ - силы ампера;\n",
    "\n",
    "$M_{Пр}$ - момент упругости пружины; $k$ - коэф. упругости; $\\alpha$ - угол отклонения стрелки;\n",
    "\n",
    "$m_{Гр}$ - масса груза;\n",
    "$P_{Гр}$ - плечо груза;\n",
    "\n",
    "$m_{Стр}$ - масса стрелки;\n",
    "$P_{Стр}$ - плечо стрелки;\n",
    "\n",
    "$H$ - главный кинетический момент;\n",
    "$J$ - момент инерции;\n",
    "$\\omega$ - угловая скорость; \n",
    "\n",
    "1) Уравнение по теореме об изменении кинетической энергии для системы:\n",
    "$$M_{Амп} + M_{Пр}+(m_{Гр}*P_{Гр}-m_{Стр}*P_{Стр})*a=\\frac{dH}{dt},$$  \n",
    "$H=J*\\omega $, $M_{Пр}=k*\\alpha$;\n",
    "2) Нарушение баланса моментов в скобке с помощью снятия грузика и прекращения подачи тока в гальванометр. Исходное уравнение будет иметь вид:\n",
    "$$M_{Пр}-m_{Стр}*P_{Стр}*a=\\frac{dH}{dt},$$  \n",
    "3) Изменение кинетической энергии:  \n",
    "Пусть, стрелка отклоняется с постоянной угловой скоростью $\\omega$\n",
    "$$\\frac{dH}{dt}=J\\frac{d(\\omega)}{dt}=0$$\n",
    "Получим уравнение:\n",
    "$$M_{Пр}-m_{Стр}*P_{Стр}*a=0,$$  $$\\alpha*k-m_{Стр}*P_{Стр}*a=0$$ \n",
    "4) Вывод формулы для нахождения ускорения:\n",
    "$$\\alpha*k=m_{Стр}*P_{Стр}*a,$$  \n",
    "$$a=\\frac{\\alpha*k*\\pi}{m_{Стр}*P_{Стр}*180^\\circ}$$"
   ]
  },
  {
   "cell_type": "markdown",
   "metadata": {},
   "source": [
    "Напишите функцию которая на основе всех необходимых вам параметров позволит опеределить ускорение при помощи такого прибора."
   ]
  },
  {
   "cell_type": "code",
   "execution_count": 4,
   "metadata": {},
   "outputs": [],
   "source": [
    "from math import pi\n",
    "def a(p,m,deg,k):\n",
    "    a = (deg*k*pi)/(p*m*180)\n",
    "    return a "
   ]
  },
  {
   "cell_type": "markdown",
   "metadata": {},
   "source": [
    "Постройти график изменения выходного сигнала такого прибора, в зависимости от всех параметров (параметры необходимо взять из предыдущей лабораторной работы) прибора и ускорении изменяющемся от $-20 \\frac{м}{с^{2}}$ до $20 \\frac{м}{с^{2}}$ "
   ]
  },
  {
   "cell_type": "code",
   "execution_count": 18,
   "metadata": {},
   "outputs": [
    {
     "data": {
      "image/png": "[encoded data removed]",
      "text/plain": [
       "<Figure size 432x288 with 1 Axes>"
      ]
     },
     "metadata": {
      "needs_background": "light"
     },
     "output_type": "display_data"
    }
   ],
   "source": [
    "from matplotlib import pyplot as plt\n",
    "def graf(p,m,k):\n",
    "    A = list(range(-300,301))\n",
    "    A = [A[i]/100 for i in range(len(A))]\n",
    "\n",
    "    alpha = [((A[i]*m*p*180)/(k*pi)) for i in range(len(A))]\n",
    "    \n",
    "    plt.plot(A, alpha)\n",
    "    return\n",
    "p=5*(10**(-2))\n",
    "m=30*(10**(-2))\n",
    "k=0.85\n",
    "graf(p,m,k)"
   ]
  },
  {
   "cell_type": "markdown",
   "metadata": {},
   "source": [
    "Напишите выводы."
   ]
  },
  {
   "cell_type": "markdown",
   "metadata": {},
   "source": []
  }
 ],
 "metadata": {
  "kernelspec": {
   "display_name": "Python 3",
   "language": "python",
   "name": "python3"
  },
  "language_info": {
   "codemirror_mode": {
    "name": "ipython",
    "version": 3
   },
   "file_extension": ".py",
   "mimetype": "text/x-python",
   "name": "python",
   "nbconvert_exporter": "python",
   "pygments_lexer": "ipython3",
   "version": "3.7.1"
  }
 },
 "nbformat": 4,
 "nbformat_minor": 2
}
